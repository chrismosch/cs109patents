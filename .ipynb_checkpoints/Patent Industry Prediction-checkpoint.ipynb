{
 "cells": [
  {
   "cell_type": "markdown",
   "metadata": {},
   "source": [
    "# Predicting Patent Industries by Text Analysis"
   ]
  },
  {
   "cell_type": "markdown",
   "metadata": {},
   "source": [
    "by Constantin Knoll, Christopher Mosch, Rohan Thavarajah"
   ]
  },
  {
   "cell_type": "markdown",
   "metadata": {},
   "source": [
    "## Table of Contents\n",
    "\n",
    "[1. Overview](#1.)\n",
    "* [1.1 Motivation](#1.1)\n",
    "* [1.2 Objectives](#1.2)\n",
    "\n",
    "[2. Prediction and Analysis](#2.)\n",
    "* [2.1 Google Patent Data](#2.1)\n",
    "* [2.2 Industry Definition Data](#2.2)\n",
    "* [2.3 Text Processing and Industry Mapping](#2.3)\n",
    "* [2.4 Accuracy via USPTO Baseline](#2.4)\n",
    "\n",
    "[3. Results](#3.) \n",
    "* [3.1 Discussion](#3.1)\n",
    "* [3.2 Opportunities for Refinement](#3.2)\n",
    "\n",
    "[4. Conclusion](#4.)"
   ]
  },
  {
   "cell_type": "markdown",
   "metadata": {},
   "source": [
    "<a id='1.'></a>\n",
    "## 1. Overview"
   ]
  },
  {
   "cell_type": "markdown",
   "metadata": {},
   "source": [
    "<a id='1.1'></a>\n",
    "### 1.1 Motivation"
   ]
  },
  {
   "cell_type": "markdown",
   "metadata": {},
   "source": [
    "<a id='1.2'></a>\n",
    "### 1.2 Objectives"
   ]
  },
  {
   "cell_type": "markdown",
   "metadata": {},
   "source": [
    "<a id='2.'></a>\n",
    "## 2. Prediction and Analysis"
   ]
  },
  {
   "cell_type": "markdown",
   "metadata": {},
   "source": [
    "The diagram below illustrates the workflow\n",
    "split up in 4 notebooks, colored boxes indicate \n",
    "\n",
    "\n",
    "overall summary\n",
    "which is descibred in more detail below"
   ]
  },
  {
   "cell_type": "markdown",
   "metadata": {},
   "source": [
    "![Image](Data\\Images\\Workflow.png?raw=true)"
   ]
  },
  {
   "cell_type": "markdown",
   "metadata": {},
   "source": [
    "<a id='2.1'></a>\n",
    "### 2.1 Google Patent Data"
   ]
  },
  {
   "cell_type": "markdown",
   "metadata": {},
   "source": [
    "The purpose of this notebook is to automate the downloading, unpacking, and subsequent uploading (to S3) of patent data available on Google. We scrape patent files with supplements and images from the url found in the User Guide. The data is grouped by weeks, ranging from 2001 to 2015. The years 2011- are compressed in .tar format, while the earlier ones are compressed as .zip. Thus, the code accounts for these options by including the python libraries ZipFile and TarFile. \n",
    "The code found in Compact Version (which we used mainly) downloads a single week of patent data, extracts, uploads and deletes it before repeating the process with another week. This is optimized to work on very small storage space such as an SSD on our local machine.\n",
    "Each week of patent data contains several folders with different content. For the purposes of our project, we are only interested in the abstracts, which are found in the .xml files of the patent application body. Thus, we need to get rid of all supplements (as defined by the user below) and all images that aren't conducive to data analysis. This is reflected in the main Code, where the tree of the downloaded data is searched for all unwanted folders, which are deleted.\n",
    "It is important to realize that the \"deleted\" files are typically dropped into the recycle bin of the local machine, and thus the purpose of running the space-optimized code is compromised. Therefore we advise the user to us an automated recycle bin clean-up program. It should be set to clean every 10-15 minutes, which is the average time it takes to complete the cycle for one week of patent data.\n",
    "Since we get rid of most of the data found in the patent files, the convoluted folder structure that remains is thrown out and replaced by a three-tiered one: 1) Root 2) Year 3) Week.\n",
    "The uploading to S3 is controlled by the boto3 library, which takes care of most of the uploading automatically.\n",
    "\n",
    "![Image](Data\\Images\\2.1 S3.png?raw=true)"
   ]
  },
  {
   "cell_type": "markdown",
   "metadata": {},
   "source": [
    "<a id='2.2'></a>\n",
    "### 2.2 Industry Definition Data"
   ]
  },
  {
   "cell_type": "markdown",
   "metadata": {},
   "source": [
    "**Goal** - scrape the Census Bureau's webpage for NAICS definitions and output a list of dictionaries. Each dictionary will have a high-level parent naics, and the nouns in all the definitions of its lower-level children\n",
    "\n",
    "**NAICS overview** - The NAICS 2002 is a hierarchical classifiction of industry. Each 2 digit naics is comprised of a set of 3 digit naics, each 3 digit naics of 4 digit naics and so on. The Census Bureau lays out their website to reflect this. If you are interested in finding the definition of a 6 digit naics, you must first select its parent and drill down to it. Therefore we have 4 steps\n",
    "\n",
    "- Step 1 - step through every tier of Census Bureau definitions and compile a list of urls to terminal definition pages\n",
    "- Step 2 - from each page fetch title, conceptual definition and items \n",
    "- Step 3 - set the definition of parents = the sum of definitions of descendents\n",
    "- Step 4 - construct a noun dictionary for each 3-digit naics\n",
    "\n",
    "**Output signature** - We wish to construct a list of dictionaries. Each dictionary will reflect a 3 digit NAICS and have the following signature:\n",
    "![Image](Data\\Images\\2.2 naics_get_nouns_output_signature.png?raw=true)\n"
   ]
  },
  {
   "cell_type": "markdown",
   "metadata": {},
   "source": [
    "<a id='2.3'></a>\n",
    "### 2.3 Text Processing and Industry Mapping"
   ]
  },
  {
   "cell_type": "markdown",
   "metadata": {},
   "source": []
  },
  {
   "cell_type": "markdown",
   "metadata": {},
   "source": [
    "<a id='2.4'></a>\n",
    "### 2.4 Accuracy via USPTO Baseline"
   ]
  },
  {
   "cell_type": "markdown",
   "metadata": {},
   "source": [
    "**Goal** - This notebook has three parts. In part 1 we compare our predicted industries to a \"Silver Standard\" to gauge our performance. \n",
    "\n",
    "Part 1 - Comparison to Silver Standard \n",
    "- Step 1.0 - Discussion - Why isn't it \"Gold\"?\n",
    "- Step 1.1 - Construct Silver Standard\n",
    "- Step 1.2 - Pull in Chronan predictions and merge with those of the USPTO\n",
    "- Step 1.3 - Analyze Chronan performance"
   ]
  },
  {
   "cell_type": "markdown",
   "metadata": {},
   "source": [
    "<a id='3.'></a>\n",
    "## 3. Results"
   ]
  },
  {
   "cell_type": "markdown",
   "metadata": {},
   "source": [
    "<a id='3.1'></a>\n",
    "### 3.1 Discussion"
   ]
  },
  {
   "cell_type": "markdown",
   "metadata": {},
   "source": [
    "The link to the Tableau public workbook is:\n",
    "https://public.tableau.com/views/Chronan_public/top_patentees_by_ind?:embed=y&:display_count=yes&:showTabs=y"
   ]
  },
  {
   "cell_type": "markdown",
   "metadata": {},
   "source": [
    "<a id='v1'></a>\n",
    "**Top Patentees by Industry**\n",
    "![Image](Data\\Images\\2.4 viz1.png?raw=true)\n",
    "- The first tab in the Tableau workbook allows users to view the most active patentees in each industry. Filtering on \"334 - Computer and Electronics\", we see that the three largest innovators in this industry are Canon, IBM and Hitachi. On the whole, our prediction suggests that American and Japanese companies dominate the computer and electronics industry, which is what we would expect to see."
   ]
  },
  {
   "cell_type": "markdown",
   "metadata": {},
   "source": [
    "<a id='v2'></a>\n",
    "**Company Profile**\n",
    "![Image](Data\\Images\\2.4 viz2.png?raw=true)\n",
    "- The second tab illustrates which industries a firm patents in. \n",
    "- Consider Hitachi Ltd which, owing to being an organisation with both chemical and metals arms, has peaks for metal manufacturing and chemical manufacturing.\n",
    "- Among other things, the profiles can be used as a new way to compare the similarity of companies, for example."
   ]
  },
  {
   "cell_type": "markdown",
   "metadata": {},
   "source": [
    "<a id='v3'></a>\n",
    "**Innovation Landscape**\n",
    "![Image](Data\\Images\\2.4 viz3.png?raw=true)\n",
    "- Finally the last tab maps patent activity by industry both across locations and time.\n",
    "- We are able to observe the greatest concentration of innovation at innovation hubs (e.g. San Francisco, Austin and New York)."
   ]
  },
  {
   "cell_type": "markdown",
   "metadata": {},
   "source": [
    "<a id='3.2'></a>\n",
    "### 3.2 Opportunities for Refinement"
   ]
  },
  {
   "cell_type": "markdown",
   "metadata": {},
   "source": [
    "**Refinement of Inputs**\n",
    "- Apply permid.org API to standardize assignee names and render filtering by assignee name less cumbersome.\n",
    "- Search for more definitions for each NAICS. Initially we had tried to use the intersection between industry definitions and topic keywords to construct the topic -> industry mapping. However, because industry definitions have relatively little content, this led to the intersections being prohibitively small.\n",
    "- We have focused on 2002-2003 because these are years in which we have a USPTO baseline for comparison. We can readily scale up years of interest to the past 20 years. The main impediment is that the schemas of the patent .xml input files change over time so we need to alter the functions for scraping the .xmls in some years (we have already done this for 2005 but have not implemented it).\n",
    "\n",
    "\n",
    "**Refinement of Processes**\n",
    "- Incorporate citations field. For instance we could append to each abstract the abstract of first order citations before running LDA. This would draw the topic of each patent towards the mean topic of its immediate citations.\n",
    "- Because we map topics to industries, we do not pay as hefty a cost in interpretability if we ask LDA to generate many topics. Our results are based on running LDA with 40 topics and we have saved output which utilizes 60 and 80 respectively. It would be interesting to see how performance evolves as a function of number of topics.\n",
    "- At the moment we choose patent industry by whichever has the highest weight. We should introduce cutoff thresholds for weights that are either too small or too similar to the second highest weight. "
   ]
  },
  {
   "cell_type": "markdown",
   "metadata": {},
   "source": [
    "<a id='4.'></a>\n",
    "## 4. Conclusion"
   ]
  },
  {
   "cell_type": "code",
   "execution_count": null,
   "metadata": {
    "collapsed": true
   },
   "outputs": [],
   "source": []
  }
 ],
 "metadata": {
  "kernelspec": {
   "display_name": "Python 2",
   "language": "python",
   "name": "python2"
  },
  "language_info": {
   "codemirror_mode": {
    "name": "ipython",
    "version": 2
   },
   "file_extension": ".py",
   "mimetype": "text/x-python",
   "name": "python",
   "nbconvert_exporter": "python",
   "pygments_lexer": "ipython2",
   "version": "2.7.10"
  }
 },
 "nbformat": 4,
 "nbformat_minor": 0
}
