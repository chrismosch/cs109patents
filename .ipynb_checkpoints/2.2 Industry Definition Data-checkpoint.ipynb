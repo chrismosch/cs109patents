{
 "cells": [
  {
   "cell_type": "markdown",
   "metadata": {},
   "source": [
    "# 2.2 Industry Definition Data"
   ]
  },
  {
   "cell_type": "markdown",
   "metadata": {},
   "source": [
    "by Constantin Knoll, Christopher Mosch, Rohan Thavarajah"
   ]
  },
  {
   "cell_type": "markdown",
   "metadata": {},
   "source": [
    "## Summary"
   ]
  },
  {
   "cell_type": "markdown",
   "metadata": {},
   "source": [
    "**Goal** - Scrape the Census Bureau's webpage for the industry definitions of the North American Industrial Classification System (NAICS 2002) and output a list of dictionaries. Each dictionary will have a high-level parent naics, and the nouns in all the definitions of its lower-level children\n",
    "\n",
    "**NAICS overview** - The NAICS 2002 is a hierarchical classifiction of industry. Each 2 digit naics is comprised of a set of 3 digit naics, each 3 digit naics of 4 digit naics and so on. The Census Bureau lays out their website to reflect this. If you are interested in finding the definition of a 6 digit naics, you must first select its parent and drill down to it. Therefore we have 4 steps\n",
    "\n",
    "- Step 1 - step through every tier of Census Bureau definitions and compile a list of urls to terminal definition pages\n",
    "- Step 2 - from each page fetch title, conceptual definition and items \n",
    "- Step 3 - set the definition of parents = the sum of definitions of descendents\n",
    "- Step 4 - construct a noun dictionary for each 3-digit naics\n",
    "\n",
    "**Output signature** - We wish to construct a list of dictionaries. Each dictionary will reflect a 3 digit NAICS and have the following signature:\n",
    "![Image](Data/Images/2.2 naics_get_nouns_output_signature.png?raw=true)"
   ]
  },
  {
   "cell_type": "markdown",
   "metadata": {},
   "source": [
    "![Image](Data/Images/Workflow_2.2.png?raw=true)"
   ]
  },
  {
   "cell_type": "markdown",
   "metadata": {},
   "source": [
    "## Table of Contents"
   ]
  },
  {
   "cell_type": "markdown",
   "metadata": {},
   "source": [
    "* <a href='#Step1'>Step1</a>\n",
    "* <a href='#Step2'>Step2</a>\n",
    "* <a href='#Step3'>Step3</a>\n",
    "* <a href='#Step4'>Step4</a>\n"
   ]
  },
  {
   "cell_type": "code",
   "execution_count": null,
   "metadata": {
    "collapsed": true
   },
   "outputs": [],
   "source": [
    "%matplotlib inline\n",
    "import numpy as np\n",
    "import scipy as sp\n",
    "import pandas as pd\n",
    "import time\n",
    "import string\n",
    "import re\n",
    "import collections\n",
    "import json\n",
    "from pyquery import PyQuery as pq\n",
    "from bs4 import BeautifulSoup\n",
    "import requests\n",
    "from unidecode import unidecode\n",
    "from collections import defaultdict\n",
    "from pattern.en import tag\n"
   ]
  },
  {
   "cell_type": "markdown",
   "metadata": {},
   "source": [
    "<a id='Step1'></a>\n",
    "**Step 1 - step through every tier of Census Bureau definitions and compile a list of urls to terminal definition pages**"
   ]
  },
  {
   "cell_type": "code",
   "execution_count": 154,
   "metadata": {
    "collapsed": false
   },
   "outputs": [],
   "source": [
    "# tier1 - first page\n",
    "tier1_req = requests.get(\"http://www.census.gov/cgi-bin/sssd/naics/naicsrch?chart=2002\")\n",
    "tier1_soup = BeautifulSoup(tier1_req.text, \"html.parser\")\n",
    "sector = []\n",
    "description = []\n",
    "url = []\n",
    "table_raw = tier1_soup.findAll(\"tr\")\n",
    "table_raw_drp_frst_rw = [row[1] for row in enumerate(table_raw) if row[0]>0]\n",
    "\n",
    "for row in table_raw_drp_frst_rw:\n",
    "    try:\n",
    "        sector.append(row.find(\"td\").get_text().strip())\n",
    "        description.append(row.find(\"td\").find(\"a\").get(\"title\").strip())\n",
    "        url.append(row.find(\"td\").find(\"a\").get(\"href\").strip())\n",
    "    except:\n",
    "        pass\n",
    "tier1 = zip(sector,description,url)\n",
    "fields = ['sector1','description1','url1']\n",
    "tier1_table = [dict(zip(fields,row)) for row in tier1]"
   ]
  },
  {
   "cell_type": "code",
   "execution_count": 155,
   "metadata": {
    "collapsed": false
   },
   "outputs": [],
   "source": [
    "# tier2 - step into second set of pages\n",
    "list_of_links = []\n",
    "for i in tier1_table:\n",
    "    time.sleep(1)\n",
    "    tier2_req = requests.get(\"http://www.census.gov/\"+i['url1'])\n",
    "    tier2_soup = BeautifulSoup(tier2_req.text, \"html.parser\")\n",
    "    \n",
    "    for row in tier2_soup.findAll(\"tr\"):\n",
    "        link_to_append = row.find(\"a\").get(\"href\").strip()\n",
    "        naics_to_append = link_to_append\n",
    "        naics_to_append = naics_to_append.replace(\"/cgi-bin/sssd/naics/naicsrch?code=\",\"\")\n",
    "        naics_to_append = naics_to_append.replace(\"&search=2002 NAICS Search\",\"\")\n",
    "        list_of_links.append((naics_to_append, link_to_append))\n",
    "    "
   ]
  },
  {
   "cell_type": "markdown",
   "metadata": {},
   "source": [
    "<a id='Step2'></a>\n",
    "**Step 2 - from each page fetch title, conceptual definition and items**\n",
    "- we are careful not to fetch the \"exclusions\" listed in each definition"
   ]
  },
  {
   "cell_type": "code",
   "execution_count": 83,
   "metadata": {
    "collapsed": false
   },
   "outputs": [
    {
     "data": {
      "text/plain": [
       "('311320',\n",
       " 'Chocolate and Confectionery Manufacturing from Cacao Beans',\n",
       " u'This industry comprises establishments primarily engaged in shelling, roasting, and grinding cacao beans and making chocolate cacao products and chocolate confectioneries.',\n",
       " u' Baking chocolate made from cacao beans Candy bars, chocolate (including chocolate covered), made from cacao beans Candy, chocolate, made from cacao beans Chocolate (e.g.,  coatings, instant, liquor, syrups) made from cacao beans Chocolate bars made from cocoa beans Chocolate, confectionery, made from cacao beans Coatings, chocolate, made from cacao beans Cocoa (e.g., instant, mix, mixed with other ingredients, powder drink, powdered) made from cacao beans Cocoa butter made from cocoa beans Confectionery chocolate made from cacao beans Cooking chocolate made from cacao beans Drink powdered mixes, cocoa, made from cacao Fudge, chocolate, made from cacao beans Granola bars and clusters, chocolate, made from cacao beans Liquor, chocolate, made from cacao beans Nuts, chocolate covered, made from cacao beans Syrup, chocolate, made from cacao beans')"
      ]
     },
     "execution_count": 83,
     "metadata": {},
     "output_type": "execute_result"
    }
   ],
   "source": [
    "url_trial = ('311320','cgi-bin/sssd/naics/naicsrch?code=311320&search=2002%20NAICS%20Search')\n",
    "'''\n",
    "input = tuple\n",
    "input[0] = naics\n",
    "input[1] = url\n",
    "output = tuple \n",
    "tuple[0] = naics code\n",
    "tuple[1] = naics industry title\n",
    "tuple[2] = conceptual definition (string)\n",
    "tuple[3] = constituent items (string)\n",
    "'''\n",
    "def fetch_ind_definition(input_tuple):\n",
    "    input_naics = input_tuple[0]\n",
    "    url = \"http://www.census.gov/\"+input_tuple[1]\n",
    "    \n",
    "    # data fetch\n",
    "    time.sleep(1)\n",
    "    tier3_req = requests.get(url)\n",
    "    tier3_soup = BeautifulSoup(tier3_req.text, \"html.parser\")\n",
    "    \n",
    "    if len(input_naics)==2:\n",
    "        # naics industry code and title\n",
    "        naics_stuff = unidecode(tier3_soup.findAll(\"h3\")[3].get_text().strip()).split('--',1)\n",
    "        naics_code = naics_stuff[0].replace(\"Sector \",\"\")\n",
    "        naics_title = naics_stuff[1]\n",
    "        # conceptual definition \n",
    "        conceptual_def = tier3_soup.findAll(\"div\", { \"class\" : \"inside\" })[1].get_text()\n",
    "        conceptual_def = conceptual_def.replace('\\n', ' ') \n",
    "        conceptual_def = conceptual_def.replace('\\r', ' ') \n",
    "        conceptual_def = unidecode(conceptual_def)\n",
    "        regex_space=re.compile(r\"\\ {2,}\")\n",
    "        conceptual_def = re.sub(regex_space, ' ', conceptual_def)\n",
    "        conceptual_def = conceptual_def.split(\"The Sector as a Whole \")[1]\n",
    "        # constituent_items\n",
    "        constituent_items = \"\"\n",
    "    elif len(input_naics)==6:\n",
    "        # naics industry code and title\n",
    "        naics_stuff = unidecode(tier3_soup.findAll(\"h3\")[3].get_text().strip()).split(' ',1)\n",
    "        naics_code = naics_stuff[0]\n",
    "        naics_title = naics_stuff[1]\n",
    "        # conceptual definition \n",
    "        conceptual_def = tier3_soup.findAll(\"div\", { \"class\" : \"inside\" })[1].h3.next_sibling.strip()\n",
    "        # constituent_items\n",
    "        table_rows_raw = tier3_soup.findAll(\"tr\")\n",
    "        table_rows = [row[1] for row in enumerate(table_rows_raw) if row[0]!=0]\n",
    "        items_list = [row.findAll(\"td\")[6].get_text().strip() for row in table_rows]\n",
    "        constituent_items = \"\"\n",
    "        for item in items_list:\n",
    "            constituent_items = constituent_items + \" \" + item \n",
    "    else:\n",
    "        # naics industry code and title\n",
    "        naics_stuff = unidecode(tier3_soup.findAll(\"h3\")[4].get_text().strip()).split(' ',1)\n",
    "        naics_code = naics_stuff[0]\n",
    "        naics_title = naics_stuff[1]\n",
    "        # conceptual definition \n",
    "        conceptual_def = tier3_soup.findAll(\"h3\")[4].next_sibling.strip()\n",
    "        if conceptual_def==\"See industry description for\":\n",
    "            conceptual_def = \"\"        \n",
    "        # constituent_items\n",
    "        constituent_items = \"\"\n",
    "            \n",
    "    # sanity check\n",
    "    if input_naics!=naics_code:\n",
    "        print \"input and output naics conflict: \" + input_naics + \" vs. \" + naics_code    \n",
    "\n",
    "    return (input_naics, naics_title, conceptual_def, constituent_items)\n",
    "    \n",
    "fetch_ind_definition(url_trial)"
   ]
  },
  {
   "cell_type": "code",
   "execution_count": 161,
   "metadata": {
    "collapsed": false
   },
   "outputs": [
    {
     "name": "stdout",
     "output_type": "stream",
     "text": [
      "input and output naics conflict: 31 vs. 31-33\n",
      "input and output naics conflict: 44 vs. 44-45\n",
      "input and output naics conflict: 48 vs. 48-49\n"
     ]
    }
   ],
   "source": [
    "# tier3 - step into third set of pages\n",
    "tier3_defs = []\n",
    "fields = ['naics_code', 'naics_title', 'conceptual_def', 'constituent_items']\n",
    "for i in list_of_links:\n",
    "    tier3_defs.append(zip(fields,fetch_ind_definition(i)))"
   ]
  },
  {
   "cell_type": "code",
   "execution_count": 168,
   "metadata": {
    "collapsed": false
   },
   "outputs": [],
   "source": [
    "tier3_dict = [dict(i) for i in tier3_defs]"
   ]
  },
  {
   "cell_type": "code",
   "execution_count": 173,
   "metadata": {
    "collapsed": false
   },
   "outputs": [],
   "source": [
    "# save to json\n",
    "fd = open(\"data/industry definitions/naics_raw_web.json\",\"w\")\n",
    "json.dump(tier3_dict, fd)\n",
    "fd.close()"
   ]
  },
  {
   "cell_type": "code",
   "execution_count": 3,
   "metadata": {
    "collapsed": false
   },
   "outputs": [
    {
     "data": {
      "text/plain": [
       "{u'conceptual_def': u'This U.S. industry comprises establishments primarily engaged in growing mushrooms under cover in mines underground, or in other controlled environments.',\n",
       " u'constituent_items': u' Mushroom farming Mushroom spawn farming Shitake mushroom farming',\n",
       " u'naics_code': u'111411',\n",
       " u'naics_title': u'Mushroom Production'}"
      ]
     },
     "execution_count": 3,
     "metadata": {},
     "output_type": "execute_result"
    }
   ],
   "source": [
    "# reload json\n",
    "with open(\"data/industry definitions/naics_raw_web.json\", \"r\") as fd:\n",
    "    tier3_dict = json.load(fd)\n",
    "tier3_dict[37]    "
   ]
  },
  {
   "cell_type": "markdown",
   "metadata": {},
   "source": [
    "<a id='Step3'></a>\n",
    "**Step 3 - set the definition of parents = the sum of definitions of descendents**\n",
    "- we do this as generally as possible so as to allow 4-digit or 5-digit NAICS definitions to be compiled in the same way.\n",
    "- 3 digit naics are chosen to facilitate comparisons with the USPTO baseline "
   ]
  },
  {
   "cell_type": "code",
   "execution_count": 61,
   "metadata": {
    "collapsed": true
   },
   "outputs": [],
   "source": [
    "'''\n",
    "groupby_parent takes multi-leveled naics data and aggregates it to a high-level parent\n",
    "input = list of dictionaries (eg tier3_dict) with at least one key named 'naics_code' per dict\n",
    "aggregate_var = string - key in input we wish to group\n",
    "aggregate_tiers = list of ints - which naics tiers to include in grouping. e.g. [4,6] means group only 4 and 6 digit naics\n",
    "output_lvl = int - the desired number of digits for the high-level parent\n",
    "'''\n",
    "def groupby_parent(input, aggregate_var, aggregate_tiers, output_lvl):\n",
    "    mapped1 = [(row['naics_code'][:output_lvl], row['naics_code'], row[aggregate_var]) for row in input]    \n",
    "    d = defaultdict(str)\n",
    "    for k, lvl, v in mapped1:\n",
    "        if len(lvl) in aggregate_tiers:\n",
    "            d[k] += v + \" \"\n",
    "    output = dict(zip(d.keys(),d.values()))\n",
    "    return output   \n"
   ]
  },
  {
   "cell_type": "code",
   "execution_count": null,
   "metadata": {
    "collapsed": true
   },
   "outputs": [],
   "source": [
    "#exception_list = ['31-33','44-45','48-49']\n",
    "#tier3_dict2 = []\n",
    "#for i in tier3_dict:\n",
    "#    if i['naics_code'] not in exception_list:\n",
    "#        tier3_dict2.append(i)\n",
    "        "
   ]
  },
  {
   "cell_type": "code",
   "execution_count": 85,
   "metadata": {
    "collapsed": false
   },
   "outputs": [],
   "source": [
    "# grab 3 digit data\n",
    "agg_naics_code = groupby_parent(tier3_dict, 'naics_code', [3,4,5,6], 3)\n",
    "agg_naics_title = groupby_parent(tier3_dict, 'naics_title', [3,4,5,6], 3)\n",
    "agg_conceptual_def = groupby_parent(tier3_dict, 'conceptual_def', [3,4,5,6], 3)\n",
    "agg_constituent_items = groupby_parent(tier3_dict, 'constituent_items', [6], 3)\n",
    "\n",
    "# consolidate\n",
    "ds = [agg_naics_code, agg_naics_title, agg_conceptual_def, agg_constituent_items]\n",
    "\n",
    "txt_data_split = []\n",
    "fields = ['naics_code_parent','agg_naics_code','agg_naics_title','agg_conceptual_def','agg_constituent_items']\n",
    "for k in agg_naics_code.iterkeys():\n",
    "    values = [k]\n",
    "    for i in ds:\n",
    "        values.append(i[k])\n",
    "    txt_data_split.append(dict(zip(fields,values)))"
   ]
  },
  {
   "cell_type": "code",
   "execution_count": 117,
   "metadata": {
    "collapsed": false
   },
   "outputs": [
    {
     "data": {
      "text/plain": [
       "{'agg_conceptual_def': u\"The Postal Service subsector includes the activities of the National Post Office and its subcontractors in delivering letters and small parcels, normally without pick-up at the sender's location. These articles can be described as those that can be handled by one person without using special equipment. This allows the collection, pick-up, and delivery operations to be done with limited labor costs and minimal equipment. Sorting and transportation activities, where necessary, are generally mechanized. The restriction to small parcels distinguishes these establishments from those in the transportation industries.   This industry comprises establishments primarily engaged in operating the National Postal Service. Establishments primarily engaged in performing one or more postal services, such as sorting, routing, and/or delivery, on a contract basis (except the bulk transportation of mail) are included in this industry. \",\n",
       " 'agg_constituent_items': u' Postal delivery services, local, operated by U.S. Postal Service Postal delivery services, local, operated on a contract basis Postal services operated by U.S. Postal Service Postal stations operated by U.S. Postal Service Postal stations operated on a contract basis ',\n",
       " 'agg_naics_code': u'491 4911 49111 491110 ',\n",
       " 'agg_naics_title': u'Postal Service Postal Service Postal Service Postal Service ',\n",
       " 'naics_code_parent': u'491'}"
      ]
     },
     "execution_count": 117,
     "metadata": {},
     "output_type": "execute_result"
    }
   ],
   "source": [
    "txt_data_split[3]"
   ]
  },
  {
   "cell_type": "markdown",
   "metadata": {},
   "source": [
    "<a id='Step3'></a>\n",
    "**Step 4 - construct a noun dictionary for each 3-digit naics**"
   ]
  },
  {
   "cell_type": "code",
   "execution_count": null,
   "metadata": {
    "collapsed": true
   },
   "outputs": [],
   "source": [
    "# for consistency this is almost identical to Chris's code. tocorpus is modified\n",
    "def get_nouns(text):  \n",
    "    tagged = tag(text.lower(), tokenize=True)   \n",
    "    nouns = [a for (a, b) in tagged if b == 'NN']\n",
    "    return nouns\n",
    "\n",
    "# for each noun in list of nouns: get its number and number of occurences in list\n",
    "def tocorpus(nouns):\n",
    "    count = defaultdict(int) # to count number of occurences of a noun\n",
    "    for noun in nouns:\n",
    "        count[noun] +=1  # for new nouns: creates new key, sets value to 1. for existing keys: increases value by 1\n",
    "    return count"
   ]
  },
  {
   "cell_type": "code",
   "execution_count": 119,
   "metadata": {
    "collapsed": false
   },
   "outputs": [],
   "source": [
    "# consolidate strings\n",
    "naics_nouns = []\n",
    "fields = ['naics_code','agg_naics_code','noun_dict']\n",
    "for i in txt_data_split:\n",
    "    values0 = i['naics_code_parent']\n",
    "    values1 = i['agg_naics_code']\n",
    "    values2 = i['agg_naics_title']+\" \"+i['agg_conceptual_def']+\" \"+i['agg_constituent_items']\n",
    "    values2 = dict(tocorpus(get_nouns(values2)))\n",
    "    values = [values0, values1, values2]\n",
    "    naics_nouns.append(dict(zip(fields,values)))"
   ]
  },
  {
   "cell_type": "code",
   "execution_count": 120,
   "metadata": {
    "collapsed": false
   },
   "outputs": [
    {
     "data": {
      "text/plain": [
       "{'agg_naics_code': u'491 4911 49111 491110 ',\n",
       " 'naics_code': u'491',\n",
       " 'noun_dict': {u'basis': 3,\n",
       "  u'collection': 1,\n",
       "  u'contract': 3,\n",
       "  u'delivery': 4,\n",
       "  u'equipment': 2,\n",
       "  u'industry': 2,\n",
       "  u'labor': 1,\n",
       "  u'location': 1,\n",
       "  u'mail': 1,\n",
       "  u'office': 1,\n",
       "  u'person': 1,\n",
       "  u'post': 1,\n",
       "  u'restriction': 1,\n",
       "  u'sender': 1,\n",
       "  u'service': 9,\n",
       "  u'subsector': 1,\n",
       "  u'transportation': 3}}"
      ]
     },
     "execution_count": 120,
     "metadata": {},
     "output_type": "execute_result"
    }
   ],
   "source": [
    "naics_nouns[3]"
   ]
  },
  {
   "cell_type": "code",
   "execution_count": 127,
   "metadata": {
    "collapsed": true
   },
   "outputs": [],
   "source": [
    "# save to json\n",
    "fd = open(\"data/industry definitions/naics_nouns.json\",\"w\")\n",
    "json.dump(naics_nouns, fd)\n",
    "fd.close()"
   ]
  },
  {
   "cell_type": "code",
   "execution_count": null,
   "metadata": {
    "collapsed": true
   },
   "outputs": [],
   "source": []
  }
 ],
 "metadata": {
  "kernelspec": {
   "display_name": "Python 2",
   "language": "python",
   "name": "python2"
  },
  "language_info": {
   "codemirror_mode": {
    "name": "ipython",
    "version": 2
   },
   "file_extension": ".py",
   "mimetype": "text/x-python",
   "name": "python",
   "nbconvert_exporter": "python",
   "pygments_lexer": "ipython2",
   "version": "2.7.10"
  }
 },
 "nbformat": 4,
 "nbformat_minor": 0
}
